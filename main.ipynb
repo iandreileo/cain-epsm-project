{
 "cells": [
  {
   "cell_type": "code",
   "execution_count": null,
   "metadata": {},
   "outputs": [],
   "source": [
    "import numpy as np\n",
    "import math\n",
    "\n",
    "from collections import deque"
   ]
  },
  {
   "cell_type": "code",
   "execution_count": null,
   "metadata": {},
   "outputs": [],
   "source": [
    "# Define a Class Atom with x,y,z and positive boolean\n",
    "class Atom:\n",
    "    def __init__(self, x, y, z, positive):\n",
    "        self.x = x\n",
    "        self.y = y\n",
    "        self.z = z\n",
    "        self.positive = positive\n",
    "\n",
    "# Define a Goal Class as list of Atoms\n",
    "class Goal:\n",
    "    def __init__(self, atoms):\n",
    "        self.atoms = atoms\n",
    "\n",
    "    # Append\n",
    "    def append(self, atom):\n",
    "        self.atoms.append(atom)\n",
    "\n",
    "    # print\n",
    "    def print(self):\n",
    "        # for each atom in the goal\n",
    "        for atom in self.atoms:\n",
    "            # print the atom\n",
    "            print(atom.x, atom.y, atom.z, end=\"\")\n",
    "            if atom.positive:\n",
    "                print(\" +\")\n",
    "            # if the atom is negative, print a -\n",
    "            else:\n",
    "                print(\" -\")\n",
    "            \n",
    "\n",
    "class GoalBag:\n",
    "    def __init__(self, goals):\n",
    "        self.goals = goals\n",
    "\n",
    "    # Append\n",
    "    def append(self, goal):\n",
    "        self.goals.append(goal)\n",
    "\n",
    "    \n",
    "    # print\n",
    "    def print(self):\n",
    "        for goal in self.goals:\n",
    "            print(\"--------------------\")\n",
    "            goal.print()\n",
    "            print(\"--------------------\")\n"
   ]
  },
  {
   "attachments": {},
   "cell_type": "markdown",
   "metadata": {},
   "source": [
    "The larger d is, the larger the search space and complexity of the problem, so d can be limited to allow an acceptable amount of approximation error such that the resulting program is shorter and computational expense of compiling it is reduced."
   ]
  },
  {
   "cell_type": "code",
   "execution_count": null,
   "metadata": {},
   "outputs": [
    {
     "name": "stdout",
     "output_type": "stream",
     "text": [
      "[array([[ 0.  ,  0.  ,  0.  ],\n",
      "       [-0.75,  0.25,  0.  ],\n",
      "       [-0.75,  0.  ,  0.5 ]]), array([[-1.  , -0.25, -0.25],\n",
      "       [-0.25,  0.5 ,  0.  ],\n",
      "       [ 0.25,  0.25,  0.  ]]), array([[-0.25,  0.5 ,  0.  ],\n",
      "       [-0.25,  0.25, -0.75],\n",
      "       [ 0.  , -0.75,  0.  ]])]\n"
     ]
    }
   ],
   "source": [
    "d = 2\n",
    "\n",
    "kernel = np.array([\n",
    "  [ 0,  0,  0],\n",
    "  [-3,  1,  0],\n",
    "  [-3,  0,  2]\n",
    "]) * (1/pow(2,d))\n",
    "\n",
    "kernels = [\n",
    "    np.array([\n",
    "  [ 0,  0,  0],\n",
    "  [-3,  1,  0],\n",
    "  [-3,  0,  2]\n",
    "]) * (1/pow(2,d))\n",
    ",\n",
    "np.array([\n",
    "  [ -4,  -1,  -1],\n",
    "  [-1,  2,  0],\n",
    "  [1,  1,  0]\n",
    "]) * (1/pow(2,d))\n",
    ",\n",
    "np.array([\n",
    "  [ -1,  2,  0],\n",
    "  [-1,  1,  -3],\n",
    "  [0,  -3,  0]\n",
    "]) * (1/pow(2,d))\n",
    "\n",
    "]\n",
    "\n",
    "print(kernels)\n"
   ]
  },
  {
   "cell_type": "code",
   "execution_count": null,
   "metadata": {},
   "outputs": [],
   "source": [
    "def kernel_to_goal(kernel):\n",
    "    nrows, ncols = kernel.shape\n",
    "    scaled_kernel = kernel\n",
    "    \n",
    "    # Goal is a class\n",
    "    goal = Goal([])\n",
    "\n",
    "    # Iterate through the kernel elements and create Atoms accordingly\n",
    "    for y in range(nrows):\n",
    "        for x in range(ncols):\n",
    "            value = scaled_kernel[y, x]\n",
    "\n",
    "            # get the nearest integer multiple of 1/2^d of the value\n",
    "            value = round(value * pow(2,d))\n",
    "\n",
    "            # Get the sign\n",
    "            sign = '+' if value > 0 else '-'\n",
    "        \n",
    "            dx = x - math.floor(ncols/2)\n",
    "            dy = math.floor(nrows/2) - y\n",
    "\n",
    "            for _ in range(abs(value)):\n",
    "                # Use atom class\n",
    "                atom = Atom(dx, dy, 0, sign == '+')\n",
    "\n",
    "                # Add atom to goal\n",
    "                goal.append(atom)\n",
    "\n",
    "\n",
    "    return goal\n"
   ]
  },
  {
   "cell_type": "code",
   "execution_count": null,
   "metadata": {},
   "outputs": [
    {
     "name": "stdout",
     "output_type": "stream",
     "text": [
      "-1 0 0 -\n",
      "-1 0 0 -\n",
      "-1 0 0 -\n",
      "0 0 0 +\n",
      "-1 -1 0 -\n",
      "-1 -1 0 -\n",
      "-1 -1 0 -\n",
      "1 -1 0 +\n",
      "1 -1 0 +\n",
      "--------------------\n",
      "-1 0 0 -\n",
      "-1 0 0 -\n",
      "-1 0 0 -\n",
      "0 0 0 +\n",
      "-1 -1 0 -\n",
      "-1 -1 0 -\n",
      "-1 -1 0 -\n",
      "1 -1 0 +\n",
      "1 -1 0 +\n",
      "--------------------\n",
      "--------------------\n",
      "-1 1 0 -\n",
      "-1 1 0 -\n",
      "-1 1 0 -\n",
      "-1 1 0 -\n",
      "0 1 0 -\n",
      "1 1 0 -\n",
      "-1 0 0 -\n",
      "0 0 0 +\n",
      "0 0 0 +\n",
      "-1 -1 0 +\n",
      "0 -1 0 +\n",
      "--------------------\n",
      "--------------------\n",
      "-1 1 0 -\n",
      "0 1 0 +\n",
      "0 1 0 +\n",
      "-1 0 0 -\n",
      "0 0 0 +\n",
      "1 0 0 -\n",
      "1 0 0 -\n",
      "1 0 0 -\n",
      "0 -1 0 -\n",
      "0 -1 0 -\n",
      "0 -1 0 -\n",
      "--------------------\n"
     ]
    }
   ],
   "source": [
    "goal = kernel_to_goal(kernel)\n",
    "goal.print()\n",
    "\n",
    "# for each kernel in kernels create a goal and add it to the goal bag\n",
    "F_goal_bag = GoalBag([])\n",
    "for kernel in kernels:\n",
    "    goal = kernel_to_goal(kernel)\n",
    "    F_goal_bag.goals.append(goal)\n",
    "\n",
    "# print the goal bag\n",
    "F_goal_bag.print()"
   ]
  },
  {
   "cell_type": "code",
   "execution_count": null,
   "metadata": {},
   "outputs": [
    {
     "data": {
      "text/plain": [
       "array([[0., 0., 0.],\n",
       "       [0., 1., 0.],\n",
       "       [0., 0., 0.]])"
      ]
     },
     "execution_count": 178,
     "metadata": {},
     "output_type": "execute_result"
    }
   ],
   "source": [
    "K_ID = np.array([\n",
    "    [ 0,  0,  0],\n",
    "    [ 0,  pow(2,d),  0],\n",
    "    [ 0,  0,  0]\n",
    "]) * (1/pow(2,d))\n",
    "\n",
    "K_ID"
   ]
  },
  {
   "cell_type": "code",
   "execution_count": null,
   "metadata": {},
   "outputs": [
    {
     "name": "stdout",
     "output_type": "stream",
     "text": [
      "0 0 0 +\n",
      "0 0 0 +\n",
      "0 0 0 +\n",
      "0 0 0 +\n"
     ]
    }
   ],
   "source": [
    "G_ID = kernel_to_goal(K_ID)\n",
    "\n",
    "G_ID.print()"
   ]
  },
  {
   "cell_type": "code",
   "execution_count": null,
   "metadata": {},
   "outputs": [
    {
     "name": "stdout",
     "output_type": "stream",
     "text": [
      "-1 0 0 -\n",
      "-1 0 0 -\n",
      "-1 0 0 -\n",
      "0 0 0 +\n",
      "-1 -1 0 -\n",
      "-1 -1 0 -\n",
      "-1 -1 0 -\n",
      "1 -1 0 +\n",
      "1 -1 0 +\n",
      "None\n"
     ]
    }
   ],
   "source": [
    "def child_generation(n):\n",
    "    inst = 'add'\n",
    "\n",
    "    goal = n.goals[0].print()\n",
    "    print(goal)\n",
    "\n",
    "    return None\n",
    "\n",
    "s = F_goal_bag\n",
    "# Array of touple (parent, child)\n",
    "deque = deque([(s, None)])\n",
    "\n",
    "while deque:\n",
    "    (n,g) = deque.popleft()\n",
    "    \n",
    "    if g == None:\n",
    "        g = child_generation(n)\n",
    "\n",
    "    c = g\n",
    "\n",
    "    if c != None:\n",
    "        deque.appendleft((c, None))\n",
    "        deque.append((n, g))\n",
    "    else:\n",
    "        break\n",
    "\n"
   ]
  },
  {
   "cell_type": "code",
   "execution_count": null,
   "metadata": {},
   "outputs": [],
   "source": [
    "def multiplicity(a, G):\n",
    "    # Assuming an implementation for counting the number of times 'a' appears in 'G'\n",
    "    # Example: return G.count(a)\n",
    "    pass\n",
    "\n",
    "\n",
    "def total_cost(C):\n",
    "    return sum([len(G) for G in C])\n",
    "\n",
    "def dists_cost(C):\n",
    "    cost = 0\n",
    "    for G in C:\n",
    "        for a in G:\n",
    "            cost += (abs(a[0]) + abs(a[1]) + (-1 if a[3] == '-' else 0)) * s(G, C)\n",
    "    return cost\n",
    "\n",
    "def s(G, C):\n",
    "    B = next((B for B in C if G.issubset(B)), None)\n",
    "    if B is None:\n",
    "        return 1\n",
    "    else:\n",
    "        return 0.5\n",
    "\n",
    "def n(a):\n",
    "    return 1 if a[3] == '-' else 0\n",
    "\n",
    "def reps_cost(C):\n",
    "    cost = 0\n",
    "    for G in C:\n",
    "        unique_translated = True\n",
    "        if unique_translated:\n",
    "            num_atoms = len(G)\n",
    "            pair_exists = any(a != b for a in G for b in G)\n",
    "\n",
    "            cost += num_atoms / 2 if pair_exists else 0\n",
    "\n",
    "    return cost\n",
    "\n",
    "def divs_cost(C, d=2):\n",
    "    return 2 * d * min(multiplicity(a, G) for G in C for a in G)\n",
    "\n",
    "def cost(C):\n",
    "    return total_cost(C) + dists_cost(C) + reps_cost(C) + divs_cost(C)"
   ]
  },
  {
   "cell_type": "code",
   "execution_count": null,
   "metadata": {},
   "outputs": [],
   "source": []
  }
 ],
 "metadata": {
  "kernelspec": {
   "display_name": "Python 3",
   "language": "python",
   "name": "python3"
  },
  "language_info": {
   "codemirror_mode": {
    "name": "ipython",
    "version": 3
   },
   "file_extension": ".py",
   "mimetype": "text/x-python",
   "name": "python",
   "nbconvert_exporter": "python",
   "pygments_lexer": "ipython3",
   "version": "3.11.3"
  },
  "orig_nbformat": 4
 },
 "nbformat": 4,
 "nbformat_minor": 2
}
